{
 "cells": [
  {
   "cell_type": "code",
   "execution_count": null,
   "id": "0572fd4f-6f69-44d3-8729-f4ec4ac75caf",
   "metadata": {
    "tags": []
   },
   "outputs": [],
   "source": [
    "import pandas as pd\n",
    "import random\n",
    "\n",
    "### Get our list of players, \n",
    "\n",
    "#load our player stats as dataframes\n",
    "\n",
    "df_wr = pd.read_csv('/Users/michaelrozewski/Desktop/fantasy prject/wr_stats_and_projections.csv')\n",
    "df_rb = pd.read_csv('/Users/michaelrozewski/Desktop/fantasy prject/rb_stats_and_projections.csv')\n",
    "df_te = pd.read_csv('/Users/michaelrozewski/Desktop/fantasy prject/te_stats_and_projections.csv')\n",
    "\n",
    "# matching column names\n",
    "df_wr[['2019 RUSH TD','2019 RUSH YDS']] = df_wr[['2019 RUSH TDS', '2019 RUSH YARDS']]\n",
    "\n",
    "# Concat the dfs together\n",
    "player_stats = pd.concat([df_wr, df_rb, df_te], axis=0)\n",
    "\n",
    "\n",
    "# Ensure '2019 REC' and '2019 FPTS' columns are numerical\n",
    "player_stats[['2019 REC', '2019 FPTS']] = player_stats[['2019 REC', '2019 FPTS']].apply(pd.to_numeric, errors='coerce')\n",
    "\n",
    "# Drop any rows where conversion to numeric failed and NaNs were introduced\n",
    "player_stats = player_stats.dropna(subset=['2019 REC', '2019 FPTS'])\n",
    "\n",
    "# Calculate half_ppr and full_ppr\n",
    "player_stats['half_ppr'] = player_stats['2019 REC'] * 0.5 + player_stats['2019 FPTS']\n",
    "player_stats['full_ppr'] = player_stats['2019 REC'] +player_stats['2019 FPTS']\n",
    "\n",
    "\n",
    "\n",
    "only_fantasy = player_stats[['PLAYER NAME', 'PLAYER POSITION', '2019 FPTS', 'half_ppr', 'full_ppr']]\n",
    "\n",
    "\n",
    "print(only_fantasy)"
   ]
  },
  {
   "cell_type": "code",
   "execution_count": 4,
   "id": "0b1a6876-5aec-406f-9da9-0e642efb1041",
   "metadata": {
    "tags": []
   },
   "outputs": [],
   "source": [
    "#Save locally for Tableau\n",
    "only_fantasy.to_csv('/Users/michaelrozewski/Desktop/fantasy prject/different_pprs.csv')"
   ]
  },
  {
   "cell_type": "code",
   "execution_count": null,
   "id": "d07e045d-aaab-490b-b35f-5f659c68c6b9",
   "metadata": {},
   "outputs": [],
   "source": [
    "## Taking our player fantasy points, lets graph by position to see how they change under different rule sets\n",
    "import matplotlib.pyplot as plt\n",
    "import seaborn as sns\n",
    "\n",
    "top_50_wr = player_stats[player_stats['PLAYER POSITION'] == 'WR'].nlargest(50, '2019 FPTS')\n",
    "top_50_rb = player_stats[player_stats['PLAYER POSITION'] == 'RB'].nlargest(50, '2019 FPTS')\n",
    "top_15_te = player_stats[player_stats['PLAYER POSITION'] == 'TE'].nlargest(15, '2019 FPTS')\n",
    "\n",
    "plot_data_wr = top_50_wr.melt(id_vars=['PLAYER NAME'], \n",
    "                              value_vars=['2019 FPTS', 'half_ppr', 'full_ppr'], \n",
    "                              var_name='Scoring Type', value_name='Points')\n",
    "\n",
    "plot_data_rb = top_50_rb.melt(id_vars=['PLAYER NAME'], \n",
    "                              value_vars=['2019 FPTS', 'half_ppr', 'full_ppr'], \n",
    "                              var_name='Scoring Type', value_name='Points')\n",
    "\n",
    "plot_data_te = top_15_te.melt(id_vars=['PLAYER NAME'], \n",
    "                              value_vars=['2019 FPTS', 'half_ppr', 'full_ppr'], \n",
    "                              var_name='Scoring Type', value_name='Points')\n",
    "\n",
    "# Plot bar graphs\n",
    "fig, axs = plt.subplots(3, 1, figsize=(14, 24))\n",
    "\n",
    "# Plot WRs\n",
    "sns.barplot(x='PLAYER NAME', y='Points', hue='Scoring Type', data=plot_data_wr, ax=axs[0])\n",
    "axs[0].set_title('Top 50 Wide Receivers Fantasy Points Comparison')\n",
    "axs[0].set_xlabel('Player Name')\n",
    "axs[0].set_ylabel('Fantasy Points')\n",
    "axs[0].tick_params(axis='x', rotation=90)\n",
    "\n",
    "# Plot RBs\n",
    "sns.barplot(x='PLAYER NAME', y='Points', hue='Scoring Type', data=plot_data_rb, ax=axs[1])\n",
    "axs[1].set_title('Top 50 Running Backs Fantasy Points Comparison')\n",
    "axs[1].set_xlabel('Player Name')\n",
    "axs[1].set_ylabel('Fantasy Points')\n",
    "axs[1].tick_params(axis='x', rotation=90)\n",
    "\n",
    "# Plot TEs\n",
    "sns.barplot(x='PLAYER NAME', y='Points', hue='Scoring Type', data=plot_data_te, ax=axs[2])\n",
    "axs[2].set_title('Top 50 Tight Ends Fantasy Points Comparison')\n",
    "axs[2].set_xlabel('Player Name')\n",
    "axs[2].set_ylabel('Fantasy Points')\n",
    "axs[2].tick_params(axis='x', rotation=90)\n",
    "\n",
    "# Adjust layout\n",
    "plt.tight_layout()\n",
    "plt.show()"
   ]
  },
  {
   "cell_type": "code",
   "execution_count": null,
   "id": "eca14d3b-a471-4373-a046-152ed522466a",
   "metadata": {},
   "outputs": [],
   "source": []
  }
 ],
 "metadata": {
  "kernelspec": {
   "display_name": "Python 3 (ipykernel)",
   "language": "python",
   "name": "python3"
  },
  "language_info": {
   "codemirror_mode": {
    "name": "ipython",
    "version": 3
   },
   "file_extension": ".py",
   "mimetype": "text/x-python",
   "name": "python",
   "nbconvert_exporter": "python",
   "pygments_lexer": "ipython3",
   "version": "3.11.5"
  }
 },
 "nbformat": 4,
 "nbformat_minor": 5
}
